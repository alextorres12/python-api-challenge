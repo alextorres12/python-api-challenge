{
 "cells": [
  {
   "cell_type": "markdown",
   "metadata": {},
   "source": [
    "# WeatherPy\n",
    "----\n",
    "\n",
    "#### Note\n",
    "* Instructions have been included for each segment. You do not have to follow them exactly, but they are included to help you think through the steps."
   ]
  },
  {
   "cell_type": "code",
   "execution_count": 7,
   "metadata": {
    "scrolled": true
   },
   "outputs": [],
   "source": [
    "from citipy import citipy\n",
    "import requests\n",
    "import json\n",
    "import random\n",
    "from pprint import pprint\n",
    "import pandas as pd\n",
    "import matplotlib.pyplot as plt\n",
    "from config import weather_api_key"
   ]
  },
  {
   "cell_type": "markdown",
   "metadata": {},
   "source": [
    "## Generate Cities List"
   ]
  },
  {
   "cell_type": "code",
   "execution_count": 2,
   "metadata": {},
   "outputs": [],
   "source": [
    "# Initialize lists for latitudes and longitudes\n",
    "random_lats = []\n",
    "random_longs = []\n",
    "\n",
    "# Generate 500 random lats and longs\n",
    "for i in range (0,499):\n",
    "    lat = random.randint(-90,90)\n",
    "    random_lats.append(lat)\n",
    "    \n",
    "    long = random.randint(-180,180)\n",
    "    random_longs.append(long)"
   ]
  },
  {
   "cell_type": "code",
   "execution_count": 3,
   "metadata": {},
   "outputs": [],
   "source": [
    "# Initialize lists for cities and countries\n",
    "cities = []\n",
    "countries = []\n",
    "\n",
    "# Find nearest city to each lat/long pair\n",
    "for i in range(0,499):\n",
    "    city = citipy.nearest_city(random_lats[i],random_longs[i])\n",
    "    cities.append(city.city_name)\n",
    "    countries.append(city.country_code)\n"
   ]
  },
  {
   "cell_type": "markdown",
   "metadata": {},
   "source": [
    "### Perform API Calls\n",
    "* Perform a weather check on each city using a series of successive API calls.\n",
    "* Include a print log of each city as it'sbeing processed (with the city number and city name).\n"
   ]
  },
  {
   "cell_type": "code",
   "execution_count": 23,
   "metadata": {},
   "outputs": [
    {
     "name": "stdout",
     "output_type": "stream",
     "text": [
      "Beginning Data Retrieval\n",
      "--------------------------\n",
      "Processing Record 1 of 500 | lasa,cn\n",
      "City not found.\n",
      "Processing Record 2 of 500 | ushuaia,ar\n",
      "Processing Record 3 of 500 | mataura,pf\n",
      "City not found.\n",
      "Processing Record 4 of 500 | bambous virieux,mu\n",
      "Processing Record 5 of 500 | dakar,sn\n",
      "Processing Record 6 of 500 | ponta do sol,cv\n",
      "Processing Record 7 of 500 | portland,au\n",
      "Processing Record 8 of 500 | poum,nc\n",
      "Processing Record 9 of 500 | nikolskoye,ru\n",
      "Processing Record 10 of 500 | arraial do cabo,br\n",
      "Processing Record 11 of 500 | nikolskoye,ru\n",
      "Processing Record 12 of 500 | kuryk,kz\n",
      "Processing Record 13 of 500 | taolanaro,mg\n",
      "City not found.\n",
      "Processing Record 14 of 500 | albany,au\n",
      "Processing Record 15 of 500 | chokurdakh,ru\n",
      "Processing Record 16 of 500 | albany,au\n",
      "Processing Record 17 of 500 | avarua,ck\n",
      "Processing Record 18 of 500 | rostovka,ru\n",
      "Processing Record 19 of 500 | rikitea,pf\n",
      "Processing Record 20 of 500 | senador jose porfirio,br\n",
      "Processing Record 21 of 500 | santa maria,cv\n",
      "Processing Record 22 of 500 | viligili,mv\n",
      "City not found.\n",
      "Processing Record 23 of 500 | vardo,no\n",
      "Processing Record 24 of 500 | butaritari,ki\n",
      "Processing Record 25 of 500 | ribeira grande,pt\n",
      "Processing Record 26 of 500 | meulaboh,id\n",
      "Processing Record 27 of 500 | tiksi,ru\n",
      "Processing Record 28 of 500 | taolanaro,mg\n",
      "City not found.\n",
      "Processing Record 29 of 500 | chhabra,in\n",
      "Processing Record 30 of 500 | puerto ayora,ec\n",
      "Processing Record 31 of 500 | avarua,ck\n",
      "Processing Record 32 of 500 | dikson,ru\n",
      "Processing Record 33 of 500 | mehamn,no\n",
      "Processing Record 34 of 500 | varhaug,no\n",
      "Processing Record 35 of 500 | pervomayskiy,ru\n",
      "Processing Record 36 of 500 | san patricio,mx\n",
      "Processing Record 37 of 500 | hilo,us\n",
      "Processing Record 38 of 500 | hilo,us\n",
      "Processing Record 39 of 500 | avarua,ck\n",
      "Processing Record 40 of 500 | marawi,sd\n",
      "Processing Record 41 of 500 | castro,cl\n",
      "Processing Record 42 of 500 | albany,au\n",
      "Processing Record 43 of 500 | gat,ly\n",
      "City not found.\n",
      "Processing Record 44 of 500 | vaini,to\n",
      "Processing Record 45 of 500 | cagayan de tawi-tawi,ph\n",
      "City not found.\n",
      "Processing Record 46 of 500 | mataura,pf\n",
      "City not found.\n",
      "Processing Record 47 of 500 | chara,ru\n",
      "Processing Record 48 of 500 | msanga,tz\n",
      "Processing Record 49 of 500 | sydney,au\n",
      "Processing Record 50 of 500 | kidal,ml\n",
      "Processing Record 51 of 500 | new norfolk,au\n",
      "Processing Record 52 of 500 | butaritari,ki\n",
      "Processing Record 53 of 500 | mar del plata,ar\n",
      "Processing Record 54 of 500 | singarayakonda,in\n",
      "Processing Record 55 of 500 | severo-kurilsk,ru\n",
      "Processing Record 56 of 500 | bluff,nz\n",
      "Processing Record 57 of 500 | touros,br\n",
      "Processing Record 58 of 500 | nosy varika,mg\n",
      "Processing Record 59 of 500 | provideniya,ru\n",
      "Processing Record 60 of 500 | leningradskiy,ru\n",
      "Processing Record 61 of 500 | dubna,ru\n",
      "Processing Record 62 of 500 | anchorage,us\n",
      "Processing Record 63 of 500 | nanortalik,gl\n",
      "Processing Record 64 of 500 | butaritari,ki\n",
      "Processing Record 65 of 500 | cidreira,br\n",
      "Processing Record 66 of 500 | bethel,us\n",
      "Processing Record 67 of 500 | cabedelo,br\n",
      "Processing Record 68 of 500 | asau,tv\n",
      "City not found.\n",
      "Processing Record 69 of 500 | carnarvon,au\n",
      "Processing Record 70 of 500 | emerald,au\n",
      "Processing Record 71 of 500 | qaqortoq,gl\n",
      "Processing Record 72 of 500 | belushya guba,ru\n",
      "City not found.\n",
      "Processing Record 73 of 500 | rikitea,pf\n",
      "Processing Record 74 of 500 | albany,au\n",
      "Processing Record 75 of 500 | el tigre,ve\n",
      "Processing Record 76 of 500 | albany,au\n",
      "Processing Record 77 of 500 | alindao,cf\n",
      "Processing Record 78 of 500 | galashki,ru\n",
      "Processing Record 79 of 500 | isangel,vu\n",
      "Processing Record 80 of 500 | cape town,za\n",
      "Processing Record 81 of 500 | leningradskiy,ru\n",
      "Processing Record 82 of 500 | yellowknife,ca\n",
      "Processing Record 83 of 500 | yellowknife,ca\n",
      "Processing Record 84 of 500 | kangaatsiaq,gl\n",
      "Processing Record 85 of 500 | gorontalo,id\n",
      "Processing Record 86 of 500 | beni,cd\n",
      "Processing Record 87 of 500 | lalmohan,bd\n",
      "Processing Record 88 of 500 | jamestown,sh\n",
      "Processing Record 89 of 500 | namibe,ao\n",
      "Processing Record 90 of 500 | belushya guba,ru\n",
      "City not found.\n",
      "Processing Record 91 of 500 | rio verde de mato grosso,br\n",
      "Processing Record 92 of 500 | busselton,au\n",
      "Processing Record 93 of 500 | tasiilaq,gl\n",
      "Processing Record 94 of 500 | upernavik,gl\n",
      "Processing Record 95 of 500 | port alfred,za\n",
      "Processing Record 96 of 500 | iqaluit,ca\n",
      "Processing Record 97 of 500 | bolungarvik,is\n",
      "City not found.\n",
      "Processing Record 98 of 500 | tuktoyaktuk,ca\n",
      "Processing Record 99 of 500 | butaritari,ki\n",
      "Processing Record 100 of 500 | portales,us\n",
      "Processing Record 101 of 500 | najran,sa\n",
      "Processing Record 102 of 500 | qaqortoq,gl\n",
      "Processing Record 103 of 500 | esperance,au\n",
      "Processing Record 104 of 500 | saint george,bm\n",
      "Processing Record 105 of 500 | port hardy,ca\n",
      "Processing Record 106 of 500 | rikitea,pf\n",
      "Processing Record 107 of 500 | saldanha,za\n",
      "Processing Record 108 of 500 | valea nucarilor,ro\n",
      "Processing Record 109 of 500 | nizwa,om\n",
      "Processing Record 110 of 500 | corinto,ni\n",
      "Processing Record 111 of 500 | mahebourg,mu\n",
      "Processing Record 112 of 500 | bima,id\n",
      "Processing Record 113 of 500 | thompson,ca\n",
      "Processing Record 114 of 500 | albany,au\n",
      "Processing Record 115 of 500 | sitka,us\n",
      "Processing Record 116 of 500 | tsihombe,mg\n",
      "City not found.\n",
      "Processing Record 117 of 500 | bontang,id\n",
      "Processing Record 118 of 500 | hermanus,za\n",
      "Processing Record 119 of 500 | port lincoln,au\n",
      "Processing Record 120 of 500 | geraldton,au\n",
      "Processing Record 121 of 500 | turangi,nz\n",
      "Processing Record 122 of 500 | arraial do cabo,br\n",
      "Processing Record 123 of 500 | bredasdorp,za\n",
      "Processing Record 124 of 500 | kahului,us\n",
      "Processing Record 125 of 500 | lagoa,pt\n",
      "Processing Record 126 of 500 | ushuaia,ar\n",
      "Processing Record 127 of 500 | dikson,ru\n",
      "Processing Record 128 of 500 | burica,pa\n",
      "City not found.\n",
      "Processing Record 129 of 500 | hilo,us\n",
      "Processing Record 130 of 500 | hachinohe,jp\n",
      "Processing Record 131 of 500 | sitka,us\n",
      "Processing Record 132 of 500 | rikitea,pf\n",
      "Processing Record 133 of 500 | taolanaro,mg\n",
      "City not found.\n",
      "Processing Record 134 of 500 | college,us\n",
      "Processing Record 135 of 500 | qaqortoq,gl\n",
      "Processing Record 136 of 500 | rikitea,pf\n",
      "Processing Record 137 of 500 | tuktoyaktuk,ca\n",
      "Processing Record 138 of 500 | pangnirtung,ca\n",
      "Processing Record 139 of 500 | barentsburg,sj\n",
      "City not found.\n",
      "Processing Record 140 of 500 | bluff,nz\n",
      "Processing Record 141 of 500 | dolores,ar\n",
      "Processing Record 142 of 500 | puerto ayora,ec\n",
      "Processing Record 143 of 500 | erdenet,mn\n",
      "Processing Record 144 of 500 | geraldton,ca\n",
      "Processing Record 145 of 500 | new norfolk,au\n",
      "Processing Record 146 of 500 | rikitea,pf\n",
      "Processing Record 147 of 500 | hermanus,za\n",
      "Processing Record 148 of 500 | dunedin,nz\n",
      "Processing Record 149 of 500 | ushuaia,ar\n",
      "Processing Record 150 of 500 | prainha,br\n",
      "Processing Record 151 of 500 | sioux lookout,ca\n",
      "Processing Record 152 of 500 | barrow,us\n",
      "Processing Record 153 of 500 | kaeo,nz\n",
      "Processing Record 154 of 500 | busselton,au\n",
      "Processing Record 155 of 500 | taolanaro,mg\n",
      "City not found.\n",
      "Processing Record 156 of 500 | saint-philippe,re\n",
      "Processing Record 157 of 500 | bengkulu,id\n",
      "Processing Record 158 of 500 | kavieng,pg\n",
      "Processing Record 159 of 500 | petropavlovsk-kamchatskiy,ru\n",
      "Processing Record 160 of 500 | rikitea,pf\n",
      "Processing Record 161 of 500 | busselton,au\n",
      "Processing Record 162 of 500 | mataura,pf\n",
      "City not found.\n",
      "Processing Record 163 of 500 | bredasdorp,za\n",
      "Processing Record 164 of 500 | atuona,pf\n",
      "Processing Record 165 of 500 | tuktoyaktuk,ca\n",
      "Processing Record 166 of 500 | esperance,au\n",
      "Processing Record 167 of 500 | padang,id\n",
      "Processing Record 168 of 500 | hithadhoo,mv\n",
      "Processing Record 169 of 500 | saskylakh,ru\n",
      "Processing Record 170 of 500 | bethel,us\n",
      "Processing Record 171 of 500 | belushya guba,ru\n",
      "City not found.\n",
      "Processing Record 172 of 500 | vaitupu,wf\n",
      "City not found.\n",
      "Processing Record 173 of 500 | vaini,to\n",
      "Processing Record 174 of 500 | kapaa,us\n",
      "Processing Record 175 of 500 | iqaluit,ca\n",
      "Processing Record 176 of 500 | albany,au\n",
      "Processing Record 177 of 500 | ritto,jp\n",
      "Processing Record 178 of 500 | butaritari,ki\n",
      "Processing Record 179 of 500 | cape town,za\n",
      "Processing Record 180 of 500 | puerto ayora,ec\n",
      "Processing Record 181 of 500 | mataura,pf\n",
      "City not found.\n",
      "Processing Record 182 of 500 | pochutla,mx\n",
      "Processing Record 183 of 500 | podyuga,ru\n"
     ]
    },
    {
     "name": "stdout",
     "output_type": "stream",
     "text": [
      "Processing Record 184 of 500 | illoqqortoormiut,gl\n",
      "City not found.\n",
      "Processing Record 185 of 500 | victoria,sc\n",
      "Processing Record 186 of 500 | nenjiang,cn\n",
      "Processing Record 187 of 500 | constitucion,cl\n",
      "Processing Record 188 of 500 | cape town,za\n",
      "Processing Record 189 of 500 | albany,au\n",
      "Processing Record 190 of 500 | jamestown,sh\n",
      "Processing Record 191 of 500 | bairiki,ki\n",
      "Processing Record 192 of 500 | yellowknife,ca\n",
      "Processing Record 193 of 500 | cairns,au\n",
      "Processing Record 194 of 500 | busselton,au\n",
      "Processing Record 195 of 500 | saint-philippe,re\n",
      "Processing Record 196 of 500 | ilulissat,gl\n",
      "Processing Record 197 of 500 | acajutla,sv\n",
      "Processing Record 198 of 500 | busselton,au\n",
      "Processing Record 199 of 500 | salinopolis,br\n",
      "Processing Record 200 of 500 | cape town,za\n",
      "Processing Record 201 of 500 | onalaska,us\n",
      "Processing Record 202 of 500 | puerto ayora,ec\n",
      "Processing Record 203 of 500 | cape town,za\n",
      "Processing Record 204 of 500 | taburi,ph\n",
      "City not found.\n",
      "Processing Record 205 of 500 | port alfred,za\n",
      "Processing Record 206 of 500 | skalistyy,ru\n",
      "City not found.\n",
      "Processing Record 207 of 500 | pisco,pe\n",
      "Processing Record 208 of 500 | punta arenas,cl\n",
      "Processing Record 209 of 500 | avarua,ck\n",
      "Processing Record 210 of 500 | namibe,ao\n",
      "Processing Record 211 of 500 | east london,za\n",
      "Processing Record 212 of 500 | laguna,br\n",
      "Processing Record 213 of 500 | tasiilaq,gl\n",
      "Processing Record 214 of 500 | vaini,to\n",
      "Processing Record 215 of 500 | kudahuvadhoo,mv\n",
      "Processing Record 216 of 500 | busselton,au\n",
      "Processing Record 217 of 500 | lata,sb\n",
      "City not found.\n",
      "Processing Record 218 of 500 | vanavara,ru\n",
      "Processing Record 219 of 500 | tuktoyaktuk,ca\n",
      "Processing Record 220 of 500 | sinjar,iq\n",
      "Processing Record 221 of 500 | toliary,mg\n",
      "City not found.\n",
      "Processing Record 222 of 500 | atuona,pf\n",
      "Processing Record 223 of 500 | pyapon,mm\n",
      "Processing Record 224 of 500 | saint george,bm\n",
      "Processing Record 225 of 500 | inhambane,mz\n",
      "Processing Record 226 of 500 | rikitea,pf\n",
      "Processing Record 227 of 500 | dingle,ie\n",
      "Processing Record 228 of 500 | buraydah,sa\n",
      "Processing Record 229 of 500 | pevek,ru\n",
      "Processing Record 230 of 500 | ozernovskiy,ru\n",
      "Processing Record 231 of 500 | jamestown,sh\n",
      "Processing Record 232 of 500 | rikitea,pf\n",
      "Processing Record 233 of 500 | chokurdakh,ru\n",
      "Processing Record 234 of 500 | taolanaro,mg\n",
      "City not found.\n",
      "Processing Record 235 of 500 | lashio,mm\n",
      "Processing Record 236 of 500 | rikitea,pf\n",
      "Processing Record 237 of 500 | port hardy,ca\n",
      "Processing Record 238 of 500 | hobart,au\n",
      "Processing Record 239 of 500 | salinas,ec\n",
      "Processing Record 240 of 500 | lorengau,pg\n",
      "Processing Record 241 of 500 | ponta do sol,cv\n",
      "Processing Record 242 of 500 | doctor pedro p. pena,py\n",
      "City not found.\n",
      "Processing Record 243 of 500 | busselton,au\n",
      "Processing Record 244 of 500 | te anau,nz\n",
      "Processing Record 245 of 500 | morant bay,jm\n",
      "Processing Record 246 of 500 | mount gambier,au\n",
      "Processing Record 247 of 500 | saleaula,ws\n",
      "City not found.\n",
      "Processing Record 248 of 500 | saskylakh,ru\n",
      "Processing Record 249 of 500 | mahdalynivka,ua\n",
      "Processing Record 250 of 500 | hermanus,za\n",
      "Processing Record 251 of 500 | esperance,au\n",
      "Processing Record 252 of 500 | marquette,us\n",
      "Processing Record 253 of 500 | talnakh,ru\n",
      "Processing Record 254 of 500 | barentsburg,sj\n",
      "City not found.\n",
      "Processing Record 255 of 500 | bloemfontein,za\n",
      "Processing Record 256 of 500 | tondano,id\n",
      "Processing Record 257 of 500 | shu,kz\n",
      "Processing Record 258 of 500 | saint-philippe,re\n",
      "Processing Record 259 of 500 | nanortalik,gl\n",
      "Processing Record 260 of 500 | sao filipe,cv\n",
      "Processing Record 261 of 500 | hithadhoo,mv\n",
      "Processing Record 262 of 500 | hilo,us\n",
      "Processing Record 263 of 500 | kodiak,us\n",
      "Processing Record 264 of 500 | aras,no\n",
      "City not found.\n",
      "Processing Record 265 of 500 | grand river south east,mu\n",
      "City not found.\n",
      "Processing Record 266 of 500 | asayita,et\n",
      "City not found.\n",
      "Processing Record 267 of 500 | vila franca do campo,pt\n",
      "Processing Record 268 of 500 | butaritari,ki\n",
      "Processing Record 269 of 500 | rikitea,pf\n",
      "Processing Record 270 of 500 | banff,ca\n",
      "Processing Record 271 of 500 | ushuaia,ar\n",
      "Processing Record 272 of 500 | marrakesh,ma\n",
      "Processing Record 273 of 500 | yulara,au\n",
      "Processing Record 274 of 500 | bluff,nz\n",
      "Processing Record 275 of 500 | prince albert,ca\n",
      "Processing Record 276 of 500 | san patricio,mx\n",
      "Processing Record 277 of 500 | puerto ayora,ec\n",
      "Processing Record 278 of 500 | cran-gevrier,fr\n",
      "Processing Record 279 of 500 | busselton,au\n",
      "Processing Record 280 of 500 | illoqqortoormiut,gl\n",
      "City not found.\n",
      "Processing Record 281 of 500 | chuy,uy\n",
      "Processing Record 282 of 500 | izhma,ru\n",
      "Processing Record 283 of 500 | lompoc,us\n",
      "Processing Record 284 of 500 | albany,au\n",
      "Processing Record 285 of 500 | georgetown,sh\n",
      "Processing Record 286 of 500 | saskylakh,ru\n",
      "Processing Record 287 of 500 | butaritari,ki\n",
      "Processing Record 288 of 500 | nioro,ml\n",
      "City not found.\n",
      "Processing Record 289 of 500 | wladyslawowo,pl\n",
      "Processing Record 290 of 500 | rikitea,pf\n",
      "Processing Record 291 of 500 | puerto ayora,ec\n",
      "Processing Record 292 of 500 | price,us\n",
      "Processing Record 293 of 500 | atuona,pf\n",
      "Processing Record 294 of 500 | eura,fi\n",
      "Processing Record 295 of 500 | bayir,jo\n",
      "City not found.\n",
      "Processing Record 296 of 500 | busselton,au\n",
      "Processing Record 297 of 500 | chokurdakh,ru\n",
      "Processing Record 298 of 500 | arraial do cabo,br\n",
      "Processing Record 299 of 500 | east london,za\n",
      "Processing Record 300 of 500 | hobart,au\n",
      "Processing Record 301 of 500 | upernavik,gl\n",
      "Processing Record 302 of 500 | gorontalo,id\n",
      "Processing Record 303 of 500 | albany,au\n",
      "Processing Record 304 of 500 | hermanus,za\n",
      "Processing Record 305 of 500 | pontal,br\n",
      "Processing Record 306 of 500 | bluff,nz\n",
      "Processing Record 307 of 500 | tsihombe,mg\n",
      "City not found.\n",
      "Processing Record 308 of 500 | miraflores,co\n",
      "Processing Record 309 of 500 | guerrero negro,mx\n",
      "Processing Record 310 of 500 | tiksi,ru\n",
      "Processing Record 311 of 500 | hobart,au\n",
      "Processing Record 312 of 500 | muscat,om\n",
      "Processing Record 313 of 500 | port lincoln,au\n",
      "Processing Record 314 of 500 | hobart,au\n",
      "Processing Record 315 of 500 | punta arenas,cl\n",
      "Processing Record 316 of 500 | jamestown,sh\n",
      "Processing Record 317 of 500 | illoqqortoormiut,gl\n",
      "City not found.\n",
      "Processing Record 318 of 500 | cao bang,vn\n",
      "Processing Record 319 of 500 | saint-philippe,re\n",
      "Processing Record 320 of 500 | leningradskiy,ru\n",
      "Processing Record 321 of 500 | busselton,au\n",
      "Processing Record 322 of 500 | mar del plata,ar\n",
      "Processing Record 323 of 500 | punta arenas,cl\n",
      "Processing Record 324 of 500 | chuy,uy\n",
      "Processing Record 325 of 500 | taolanaro,mg\n",
      "City not found.\n",
      "Processing Record 326 of 500 | the valley,ai\n",
      "Processing Record 327 of 500 | booue,ga\n",
      "Processing Record 328 of 500 | kota tinggi,my\n",
      "Processing Record 329 of 500 | shunyi,cn\n",
      "Processing Record 330 of 500 | bubaque,gw\n",
      "Processing Record 331 of 500 | mataura,pf\n",
      "City not found.\n",
      "Processing Record 332 of 500 | saskylakh,ru\n",
      "Processing Record 333 of 500 | hualmay,pe\n",
      "Processing Record 334 of 500 | bredasdorp,za\n",
      "Processing Record 335 of 500 | hermanus,za\n",
      "Processing Record 336 of 500 | nayudupeta,in\n",
      "Processing Record 337 of 500 | busselton,au\n",
      "Processing Record 338 of 500 | faya,td\n",
      "City not found.\n",
      "Processing Record 339 of 500 | te anau,nz\n",
      "Processing Record 340 of 500 | rikitea,pf\n",
      "Processing Record 341 of 500 | paytug,uz\n",
      "City not found.\n",
      "Processing Record 342 of 500 | coihaique,cl\n",
      "Processing Record 343 of 500 | illoqqortoormiut,gl\n",
      "City not found.\n",
      "Processing Record 344 of 500 | junction city,us\n",
      "Processing Record 345 of 500 | naze,jp\n",
      "Processing Record 346 of 500 | anloga,gh\n",
      "Processing Record 347 of 500 | huaibei,cn\n",
      "Processing Record 348 of 500 | avarua,ck\n",
      "Processing Record 349 of 500 | rocha,uy\n",
      "Processing Record 350 of 500 | atuona,pf\n",
      "Processing Record 351 of 500 | panzhihua,cn\n",
      "Processing Record 352 of 500 | tuatapere,nz\n",
      "Processing Record 353 of 500 | ushuaia,ar\n",
      "Processing Record 354 of 500 | new norfolk,au\n",
      "Processing Record 355 of 500 | kysyl-syr,ru\n",
      "Processing Record 356 of 500 | bafia,cm\n",
      "Processing Record 357 of 500 | jamestown,sh\n",
      "Processing Record 358 of 500 | severo-kurilsk,ru\n",
      "Processing Record 359 of 500 | longyearbyen,sj\n",
      "Processing Record 360 of 500 | pangody,ru\n",
      "Processing Record 361 of 500 | bethel,us\n",
      "Processing Record 362 of 500 | dingle,ie\n",
      "Processing Record 363 of 500 | shieli,kz\n",
      "Processing Record 364 of 500 | mataura,pf\n",
      "City not found.\n",
      "Processing Record 365 of 500 | svetlyy,ru\n"
     ]
    },
    {
     "name": "stdout",
     "output_type": "stream",
     "text": [
      "Processing Record 366 of 500 | hilo,us\n",
      "Processing Record 367 of 500 | lavrentiya,ru\n",
      "Processing Record 368 of 500 | illoqqortoormiut,gl\n",
      "City not found.\n",
      "Processing Record 369 of 500 | mathbaria,bd\n",
      "Processing Record 370 of 500 | punta arenas,cl\n",
      "Processing Record 371 of 500 | east london,za\n",
      "Processing Record 372 of 500 | sao joao da barra,br\n",
      "Processing Record 373 of 500 | hobart,au\n",
      "Processing Record 374 of 500 | san quintin,mx\n",
      "Processing Record 375 of 500 | mataura,pf\n",
      "City not found.\n",
      "Processing Record 376 of 500 | kapaa,us\n",
      "Processing Record 377 of 500 | rikitea,pf\n",
      "Processing Record 378 of 500 | ushuaia,ar\n",
      "Processing Record 379 of 500 | hithadhoo,mv\n",
      "Processing Record 380 of 500 | rikitea,pf\n",
      "Processing Record 381 of 500 | ushuaia,ar\n",
      "Processing Record 382 of 500 | hovd,mn\n",
      "Processing Record 383 of 500 | ushuaia,ar\n",
      "Processing Record 384 of 500 | puerto ayora,ec\n",
      "Processing Record 385 of 500 | belushya guba,ru\n",
      "City not found.\n",
      "Processing Record 386 of 500 | butaritari,ki\n",
      "Processing Record 387 of 500 | busselton,au\n",
      "Processing Record 388 of 500 | airai,pw\n",
      "City not found.\n",
      "Processing Record 389 of 500 | esfahan,ir\n",
      "Processing Record 390 of 500 | cherskiy,ru\n",
      "Processing Record 391 of 500 | khatanga,ru\n",
      "Processing Record 392 of 500 | busselton,au\n",
      "Processing Record 393 of 500 | sentyabrskiy,ru\n",
      "City not found.\n",
      "Processing Record 394 of 500 | bredasdorp,za\n",
      "Processing Record 395 of 500 | namibe,ao\n",
      "Processing Record 396 of 500 | atar,mr\n",
      "Processing Record 397 of 500 | victoria,sc\n",
      "Processing Record 398 of 500 | bredasdorp,za\n",
      "Processing Record 399 of 500 | dingle,ie\n",
      "Processing Record 400 of 500 | anadyr,ru\n",
      "Processing Record 401 of 500 | ushuaia,ar\n",
      "Processing Record 402 of 500 | puerto ayora,ec\n",
      "Processing Record 403 of 500 | brae,gb\n",
      "Processing Record 404 of 500 | yellowknife,ca\n",
      "Processing Record 405 of 500 | mataura,pf\n",
      "City not found.\n",
      "Processing Record 406 of 500 | salalah,om\n",
      "Processing Record 407 of 500 | ojinaga,mx\n",
      "Processing Record 408 of 500 | rikitea,pf\n",
      "Processing Record 409 of 500 | albany,au\n",
      "Processing Record 410 of 500 | mayo,ca\n",
      "Processing Record 411 of 500 | wagar,sd\n",
      "Processing Record 412 of 500 | hobart,au\n",
      "Processing Record 413 of 500 | sitka,us\n",
      "Processing Record 414 of 500 | bluff,nz\n",
      "Processing Record 415 of 500 | aklavik,ca\n",
      "Processing Record 416 of 500 | bandarbeyla,so\n",
      "Processing Record 417 of 500 | castro,cl\n",
      "Processing Record 418 of 500 | saldanha,za\n",
      "Processing Record 419 of 500 | whitley bay,gb\n",
      "Processing Record 420 of 500 | portland,au\n",
      "Processing Record 421 of 500 | taolanaro,mg\n",
      "City not found.\n",
      "Processing Record 422 of 500 | chokurdakh,ru\n",
      "Processing Record 423 of 500 | airai,pw\n",
      "City not found.\n",
      "Processing Record 424 of 500 | pacific grove,us\n",
      "Processing Record 425 of 500 | yerbogachen,ru\n",
      "Processing Record 426 of 500 | rikitea,pf\n",
      "Processing Record 427 of 500 | christchurch,nz\n",
      "Processing Record 428 of 500 | karauzyak,uz\n",
      "City not found.\n",
      "Processing Record 429 of 500 | moerai,pf\n",
      "Processing Record 430 of 500 | yuzhno-yeniseyskiy,ru\n",
      "City not found.\n",
      "Processing Record 431 of 500 | taolanaro,mg\n",
      "City not found.\n",
      "Processing Record 432 of 500 | samfya,zm\n",
      "Processing Record 433 of 500 | cabra,ph\n",
      "Processing Record 434 of 500 | tuktoyaktuk,ca\n",
      "Processing Record 435 of 500 | kupang,id\n",
      "Processing Record 436 of 500 | tuktoyaktuk,ca\n",
      "Processing Record 437 of 500 | rikitea,pf\n",
      "Processing Record 438 of 500 | geraldton,au\n",
      "Processing Record 439 of 500 | rikitea,pf\n",
      "Processing Record 440 of 500 | punta arenas,cl\n",
      "Processing Record 441 of 500 | rikitea,pf\n",
      "Processing Record 442 of 500 | carnarvon,au\n",
      "Processing Record 443 of 500 | rio grande,br\n",
      "Processing Record 444 of 500 | ushuaia,ar\n",
      "Processing Record 445 of 500 | yellowknife,ca\n",
      "Processing Record 446 of 500 | flinders,au\n",
      "Processing Record 447 of 500 | rikitea,pf\n",
      "Processing Record 448 of 500 | torbay,ca\n",
      "Processing Record 449 of 500 | east london,za\n",
      "Processing Record 450 of 500 | ushuaia,ar\n",
      "Processing Record 451 of 500 | rikitea,pf\n",
      "Processing Record 452 of 500 | nikolskoye,ru\n",
      "Processing Record 453 of 500 | leh,in\n",
      "Processing Record 454 of 500 | pangnirtung,ca\n",
      "Processing Record 455 of 500 | taolanaro,mg\n",
      "City not found.\n",
      "Processing Record 456 of 500 | sechura,pe\n",
      "Processing Record 457 of 500 | pisco,pe\n",
      "Processing Record 458 of 500 | bambous virieux,mu\n",
      "Processing Record 459 of 500 | daxian,cn\n",
      "City not found.\n",
      "Processing Record 460 of 500 | jinzhou,cn\n",
      "Processing Record 461 of 500 | pevek,ru\n",
      "Processing Record 462 of 500 | norman wells,ca\n",
      "Processing Record 463 of 500 | norman wells,ca\n",
      "Processing Record 464 of 500 | sangmelima,cm\n",
      "Processing Record 465 of 500 | yuksekova,tr\n",
      "Processing Record 466 of 500 | baykit,ru\n",
      "Processing Record 467 of 500 | east london,za\n",
      "Processing Record 468 of 500 | atuona,pf\n",
      "Processing Record 469 of 500 | carnarvon,au\n",
      "Processing Record 470 of 500 | nalut,ly\n",
      "Processing Record 471 of 500 | hilo,us\n",
      "Processing Record 472 of 500 | santiago del estero,ar\n",
      "Processing Record 473 of 500 | rikitea,pf\n",
      "Processing Record 474 of 500 | attawapiskat,ca\n",
      "City not found.\n",
      "Processing Record 475 of 500 | airai,pw\n",
      "City not found.\n",
      "Processing Record 476 of 500 | kununurra,au\n",
      "Processing Record 477 of 500 | nalut,ly\n",
      "Processing Record 478 of 500 | bethel,us\n",
      "Processing Record 479 of 500 | casian,ph\n",
      "Processing Record 480 of 500 | qaanaaq,gl\n",
      "Processing Record 481 of 500 | kerman,ir\n",
      "Processing Record 482 of 500 | tuktoyaktuk,ca\n",
      "Processing Record 483 of 500 | kruisfontein,za\n",
      "Processing Record 484 of 500 | carnarvon,au\n",
      "Processing Record 485 of 500 | taolanaro,mg\n",
      "City not found.\n",
      "Processing Record 486 of 500 | prudentopolis,br\n",
      "Processing Record 487 of 500 | punta arenas,cl\n",
      "Processing Record 488 of 500 | clyde river,ca\n",
      "Processing Record 489 of 500 | palmer,us\n",
      "Processing Record 490 of 500 | airai,pw\n",
      "City not found.\n",
      "Processing Record 491 of 500 | ushuaia,ar\n",
      "Processing Record 492 of 500 | touros,br\n",
      "Processing Record 493 of 500 | seoul,kr\n",
      "Processing Record 494 of 500 | alugan,ph\n",
      "Processing Record 495 of 500 | severo-kurilsk,ru\n",
      "Processing Record 496 of 500 | dzerzhinsk,by\n",
      "City not found.\n",
      "Processing Record 497 of 500 | bam,ir\n",
      "Processing Record 498 of 500 | albany,au\n",
      "Processing Record 499 of 500 | illoqqortoormiut,gl\n",
      "City not found.\n"
     ]
    }
   ],
   "source": [
    "# Initializes lists for weather data\n",
    "latitudes = []\n",
    "longitudes = []\n",
    "temperatures = []\n",
    "humidity = []\n",
    "cloudiness = []\n",
    "wind_speed = []\n",
    "\n",
    "print(\"Beginning Data Retrieval\")\n",
    "print(\"--------------------------\")\n",
    "\n",
    "# Loops through each city to retrieve weather data via API calls\n",
    "# Enters null values if no weather data is found\n",
    "for i in range(0,499):\n",
    "    print(f\"Processing Record {i+1} of 500 | {cities[i]},{countries[i]}\")\n",
    "    try:\n",
    "        url = f\"http://api.openweathermap.org/data/2.5/weather?q={cities[i]},{countries[i]}&appid={weather_api_key}&units=metric\"\n",
    "        response = requests.get(url).json()\n",
    "        latitudes.append(response['coord']['lat'])\n",
    "        longitudes.append(response['coord']['lon'])\n",
    "        temperatures.append(response['main']['temp'])\n",
    "        humidity.append(response['main']['humidity'])\n",
    "        cloudiness.append(response['clouds']['all'])\n",
    "        wind_speed.append(response['wind']['speed'])\n",
    "    except:\n",
    "        print(\"City not found.\")\n",
    "        latitudes.append(None)\n",
    "        longitudes.append(None)\n",
    "        temperatures.append(None)\n",
    "        humidity.append(None)\n",
    "        cloudiness.append(None)\n",
    "        wind_speed.append(None)\n",
    "        pass\n",
    "        \n",
    "\n"
   ]
  },
  {
   "cell_type": "markdown",
   "metadata": {},
   "source": [
    "### Convert Raw Data to DataFrame\n",
    "* Export the city data into a .csv.\n",
    "* Display the DataFrame"
   ]
  },
  {
   "cell_type": "code",
   "execution_count": 29,
   "metadata": {},
   "outputs": [
    {
     "data": {
      "text/html": [
       "<div>\n",
       "<style scoped>\n",
       "    .dataframe tbody tr th:only-of-type {\n",
       "        vertical-align: middle;\n",
       "    }\n",
       "\n",
       "    .dataframe tbody tr th {\n",
       "        vertical-align: top;\n",
       "    }\n",
       "\n",
       "    .dataframe thead th {\n",
       "        text-align: right;\n",
       "    }\n",
       "</style>\n",
       "<table border=\"1\" class=\"dataframe\">\n",
       "  <thead>\n",
       "    <tr style=\"text-align: right;\">\n",
       "      <th></th>\n",
       "      <th>City</th>\n",
       "      <th>Lat</th>\n",
       "      <th>Lng</th>\n",
       "      <th>Temp</th>\n",
       "      <th>Humidity</th>\n",
       "      <th>Cloudiness</th>\n",
       "      <th>Wind Speed</th>\n",
       "      <th>Country</th>\n",
       "    </tr>\n",
       "  </thead>\n",
       "  <tbody>\n",
       "    <tr>\n",
       "      <th>0</th>\n",
       "      <td>lasa</td>\n",
       "      <td>NaN</td>\n",
       "      <td>NaN</td>\n",
       "      <td>NaN</td>\n",
       "      <td>NaN</td>\n",
       "      <td>NaN</td>\n",
       "      <td>NaN</td>\n",
       "      <td>cn</td>\n",
       "    </tr>\n",
       "    <tr>\n",
       "      <th>1</th>\n",
       "      <td>ushuaia</td>\n",
       "      <td>-54.80</td>\n",
       "      <td>-68.30</td>\n",
       "      <td>14.00</td>\n",
       "      <td>33.0</td>\n",
       "      <td>75.0</td>\n",
       "      <td>7.20</td>\n",
       "      <td>ar</td>\n",
       "    </tr>\n",
       "    <tr>\n",
       "      <th>2</th>\n",
       "      <td>mataura</td>\n",
       "      <td>NaN</td>\n",
       "      <td>NaN</td>\n",
       "      <td>NaN</td>\n",
       "      <td>NaN</td>\n",
       "      <td>NaN</td>\n",
       "      <td>NaN</td>\n",
       "      <td>pf</td>\n",
       "    </tr>\n",
       "    <tr>\n",
       "      <th>3</th>\n",
       "      <td>bambous virieux</td>\n",
       "      <td>-20.34</td>\n",
       "      <td>57.76</td>\n",
       "      <td>23.95</td>\n",
       "      <td>78.0</td>\n",
       "      <td>40.0</td>\n",
       "      <td>3.60</td>\n",
       "      <td>mu</td>\n",
       "    </tr>\n",
       "    <tr>\n",
       "      <th>4</th>\n",
       "      <td>dakar</td>\n",
       "      <td>14.69</td>\n",
       "      <td>-17.44</td>\n",
       "      <td>31.00</td>\n",
       "      <td>79.0</td>\n",
       "      <td>40.0</td>\n",
       "      <td>2.10</td>\n",
       "      <td>sn</td>\n",
       "    </tr>\n",
       "    <tr>\n",
       "      <th>...</th>\n",
       "      <td>...</td>\n",
       "      <td>...</td>\n",
       "      <td>...</td>\n",
       "      <td>...</td>\n",
       "      <td>...</td>\n",
       "      <td>...</td>\n",
       "      <td>...</td>\n",
       "      <td>...</td>\n",
       "    </tr>\n",
       "    <tr>\n",
       "      <th>494</th>\n",
       "      <td>severo-kurilsk</td>\n",
       "      <td>50.68</td>\n",
       "      <td>156.12</td>\n",
       "      <td>6.10</td>\n",
       "      <td>78.0</td>\n",
       "      <td>27.0</td>\n",
       "      <td>8.87</td>\n",
       "      <td>ru</td>\n",
       "    </tr>\n",
       "    <tr>\n",
       "      <th>495</th>\n",
       "      <td>dzerzhinsk</td>\n",
       "      <td>NaN</td>\n",
       "      <td>NaN</td>\n",
       "      <td>NaN</td>\n",
       "      <td>NaN</td>\n",
       "      <td>NaN</td>\n",
       "      <td>NaN</td>\n",
       "      <td>by</td>\n",
       "    </tr>\n",
       "    <tr>\n",
       "      <th>496</th>\n",
       "      <td>bam</td>\n",
       "      <td>29.11</td>\n",
       "      <td>58.36</td>\n",
       "      <td>15.90</td>\n",
       "      <td>23.0</td>\n",
       "      <td>0.0</td>\n",
       "      <td>3.10</td>\n",
       "      <td>ir</td>\n",
       "    </tr>\n",
       "    <tr>\n",
       "      <th>497</th>\n",
       "      <td>albany</td>\n",
       "      <td>-35.02</td>\n",
       "      <td>117.89</td>\n",
       "      <td>10.00</td>\n",
       "      <td>93.0</td>\n",
       "      <td>90.0</td>\n",
       "      <td>2.50</td>\n",
       "      <td>au</td>\n",
       "    </tr>\n",
       "    <tr>\n",
       "      <th>498</th>\n",
       "      <td>illoqqortoormiut</td>\n",
       "      <td>NaN</td>\n",
       "      <td>NaN</td>\n",
       "      <td>NaN</td>\n",
       "      <td>NaN</td>\n",
       "      <td>NaN</td>\n",
       "      <td>NaN</td>\n",
       "      <td>gl</td>\n",
       "    </tr>\n",
       "  </tbody>\n",
       "</table>\n",
       "<p>499 rows × 8 columns</p>\n",
       "</div>"
      ],
      "text/plain": [
       "                 City    Lat     Lng   Temp  Humidity  Cloudiness  Wind Speed  \\\n",
       "0                lasa    NaN     NaN    NaN       NaN         NaN         NaN   \n",
       "1             ushuaia -54.80  -68.30  14.00      33.0        75.0        7.20   \n",
       "2             mataura    NaN     NaN    NaN       NaN         NaN         NaN   \n",
       "3     bambous virieux -20.34   57.76  23.95      78.0        40.0        3.60   \n",
       "4               dakar  14.69  -17.44  31.00      79.0        40.0        2.10   \n",
       "..                ...    ...     ...    ...       ...         ...         ...   \n",
       "494    severo-kurilsk  50.68  156.12   6.10      78.0        27.0        8.87   \n",
       "495        dzerzhinsk    NaN     NaN    NaN       NaN         NaN         NaN   \n",
       "496               bam  29.11   58.36  15.90      23.0         0.0        3.10   \n",
       "497            albany -35.02  117.89  10.00      93.0        90.0        2.50   \n",
       "498  illoqqortoormiut    NaN     NaN    NaN       NaN         NaN         NaN   \n",
       "\n",
       "    Country  \n",
       "0        cn  \n",
       "1        ar  \n",
       "2        pf  \n",
       "3        mu  \n",
       "4        sn  \n",
       "..      ...  \n",
       "494      ru  \n",
       "495      by  \n",
       "496      ir  \n",
       "497      au  \n",
       "498      gl  \n",
       "\n",
       "[499 rows x 8 columns]"
      ]
     },
     "execution_count": 29,
     "metadata": {},
     "output_type": "execute_result"
    }
   ],
   "source": [
    "df = pd.DataFrame({\n",
    "    \"City\":cities,\n",
    "    \"Lat\":latitudes,\n",
    "    \"Lng\":longitudes,\n",
    "    \"Temp\":temperatures,\n",
    "    \"Humidity\":humidity,\n",
    "    \"Cloudiness\":cloudiness,\n",
    "    \"Wind Speed\":wind_speed,\n",
    "    \"Country\":countries\n",
    "})\n",
    "\n",
    "df.to_csv(\"Output/data.csv\", index=False, header=True)\n",
    "df"
   ]
  },
  {
   "cell_type": "code",
   "execution_count": 31,
   "metadata": {},
   "outputs": [
    {
     "data": {
      "text/html": [
       "<div>\n",
       "<style scoped>\n",
       "    .dataframe tbody tr th:only-of-type {\n",
       "        vertical-align: middle;\n",
       "    }\n",
       "\n",
       "    .dataframe tbody tr th {\n",
       "        vertical-align: top;\n",
       "    }\n",
       "\n",
       "    .dataframe thead th {\n",
       "        text-align: right;\n",
       "    }\n",
       "</style>\n",
       "<table border=\"1\" class=\"dataframe\">\n",
       "  <thead>\n",
       "    <tr style=\"text-align: right;\">\n",
       "      <th></th>\n",
       "      <th>City</th>\n",
       "      <th>Lat</th>\n",
       "      <th>Lng</th>\n",
       "      <th>Temp</th>\n",
       "      <th>Humidity</th>\n",
       "      <th>Cloudiness</th>\n",
       "      <th>Wind Speed</th>\n",
       "      <th>Country</th>\n",
       "    </tr>\n",
       "  </thead>\n",
       "  <tbody>\n",
       "    <tr>\n",
       "      <th>1</th>\n",
       "      <td>ushuaia</td>\n",
       "      <td>-54.80</td>\n",
       "      <td>-68.30</td>\n",
       "      <td>14.00</td>\n",
       "      <td>33.0</td>\n",
       "      <td>75.0</td>\n",
       "      <td>7.20</td>\n",
       "      <td>ar</td>\n",
       "    </tr>\n",
       "    <tr>\n",
       "      <th>3</th>\n",
       "      <td>bambous virieux</td>\n",
       "      <td>-20.34</td>\n",
       "      <td>57.76</td>\n",
       "      <td>23.95</td>\n",
       "      <td>78.0</td>\n",
       "      <td>40.0</td>\n",
       "      <td>3.60</td>\n",
       "      <td>mu</td>\n",
       "    </tr>\n",
       "    <tr>\n",
       "      <th>4</th>\n",
       "      <td>dakar</td>\n",
       "      <td>14.69</td>\n",
       "      <td>-17.44</td>\n",
       "      <td>31.00</td>\n",
       "      <td>79.0</td>\n",
       "      <td>40.0</td>\n",
       "      <td>2.10</td>\n",
       "      <td>sn</td>\n",
       "    </tr>\n",
       "    <tr>\n",
       "      <th>5</th>\n",
       "      <td>ponta do sol</td>\n",
       "      <td>17.20</td>\n",
       "      <td>-25.09</td>\n",
       "      <td>30.00</td>\n",
       "      <td>70.0</td>\n",
       "      <td>75.0</td>\n",
       "      <td>7.70</td>\n",
       "      <td>cv</td>\n",
       "    </tr>\n",
       "    <tr>\n",
       "      <th>6</th>\n",
       "      <td>portland</td>\n",
       "      <td>-38.33</td>\n",
       "      <td>141.60</td>\n",
       "      <td>8.89</td>\n",
       "      <td>72.0</td>\n",
       "      <td>28.0</td>\n",
       "      <td>5.58</td>\n",
       "      <td>au</td>\n",
       "    </tr>\n",
       "    <tr>\n",
       "      <th>...</th>\n",
       "      <td>...</td>\n",
       "      <td>...</td>\n",
       "      <td>...</td>\n",
       "      <td>...</td>\n",
       "      <td>...</td>\n",
       "      <td>...</td>\n",
       "      <td>...</td>\n",
       "      <td>...</td>\n",
       "    </tr>\n",
       "    <tr>\n",
       "      <th>492</th>\n",
       "      <td>seoul</td>\n",
       "      <td>37.57</td>\n",
       "      <td>126.98</td>\n",
       "      <td>7.70</td>\n",
       "      <td>70.0</td>\n",
       "      <td>1.0</td>\n",
       "      <td>0.95</td>\n",
       "      <td>kr</td>\n",
       "    </tr>\n",
       "    <tr>\n",
       "      <th>493</th>\n",
       "      <td>alugan</td>\n",
       "      <td>12.22</td>\n",
       "      <td>125.48</td>\n",
       "      <td>26.21</td>\n",
       "      <td>83.0</td>\n",
       "      <td>100.0</td>\n",
       "      <td>2.25</td>\n",
       "      <td>ph</td>\n",
       "    </tr>\n",
       "    <tr>\n",
       "      <th>494</th>\n",
       "      <td>severo-kurilsk</td>\n",
       "      <td>50.68</td>\n",
       "      <td>156.12</td>\n",
       "      <td>6.10</td>\n",
       "      <td>78.0</td>\n",
       "      <td>27.0</td>\n",
       "      <td>8.87</td>\n",
       "      <td>ru</td>\n",
       "    </tr>\n",
       "    <tr>\n",
       "      <th>496</th>\n",
       "      <td>bam</td>\n",
       "      <td>29.11</td>\n",
       "      <td>58.36</td>\n",
       "      <td>15.90</td>\n",
       "      <td>23.0</td>\n",
       "      <td>0.0</td>\n",
       "      <td>3.10</td>\n",
       "      <td>ir</td>\n",
       "    </tr>\n",
       "    <tr>\n",
       "      <th>497</th>\n",
       "      <td>albany</td>\n",
       "      <td>-35.02</td>\n",
       "      <td>117.89</td>\n",
       "      <td>10.00</td>\n",
       "      <td>93.0</td>\n",
       "      <td>90.0</td>\n",
       "      <td>2.50</td>\n",
       "      <td>au</td>\n",
       "    </tr>\n",
       "  </tbody>\n",
       "</table>\n",
       "<p>436 rows × 8 columns</p>\n",
       "</div>"
      ],
      "text/plain": [
       "                City    Lat     Lng   Temp  Humidity  Cloudiness  Wind Speed  \\\n",
       "1            ushuaia -54.80  -68.30  14.00      33.0        75.0        7.20   \n",
       "3    bambous virieux -20.34   57.76  23.95      78.0        40.0        3.60   \n",
       "4              dakar  14.69  -17.44  31.00      79.0        40.0        2.10   \n",
       "5       ponta do sol  17.20  -25.09  30.00      70.0        75.0        7.70   \n",
       "6           portland -38.33  141.60   8.89      72.0        28.0        5.58   \n",
       "..               ...    ...     ...    ...       ...         ...         ...   \n",
       "492            seoul  37.57  126.98   7.70      70.0         1.0        0.95   \n",
       "493           alugan  12.22  125.48  26.21      83.0       100.0        2.25   \n",
       "494   severo-kurilsk  50.68  156.12   6.10      78.0        27.0        8.87   \n",
       "496              bam  29.11   58.36  15.90      23.0         0.0        3.10   \n",
       "497           albany -35.02  117.89  10.00      93.0        90.0        2.50   \n",
       "\n",
       "    Country  \n",
       "1        ar  \n",
       "3        mu  \n",
       "4        sn  \n",
       "5        cv  \n",
       "6        au  \n",
       "..      ...  \n",
       "492      kr  \n",
       "493      ph  \n",
       "494      ru  \n",
       "496      ir  \n",
       "497      au  \n",
       "\n",
       "[436 rows x 8 columns]"
      ]
     },
     "execution_count": 31,
     "metadata": {},
     "output_type": "execute_result"
    }
   ],
   "source": [
    "df = df.dropna()\n",
    "df"
   ]
  },
  {
   "cell_type": "markdown",
   "metadata": {},
   "source": [
    "## Plotting the Data\n",
    "* Use proper labeling of the plots using plot titles (including date of analysis) and axes labels.\n",
    "* Save the plotted figures as .pngs."
   ]
  },
  {
   "cell_type": "markdown",
   "metadata": {},
   "source": [
    "## Latitude vs. Temperature Plot"
   ]
  },
  {
   "cell_type": "code",
   "execution_count": 36,
   "metadata": {
    "scrolled": true
   },
   "outputs": [
    {
     "data": {
      "image/png": "[encoded data removed]",
      "text/plain": [
       "<Figure size 432x288 with 1 Axes>"
      ]
     },
     "metadata": {
      "needs_background": "light"
     },
     "output_type": "display_data"
    }
   ],
   "source": [
    "lats_and_temps = df[[\"Lat\",\"Temp\"]]\n",
    "lats_and_temps.plot(kind=\"scatter\",x=\"Lat\",y=\"Temp\",grid=True)\n",
    "\n",
    "plt.title(\"City Latitude vs. Temperature 10/15/20\")\n",
    "plt.xlabel(\"Latitude\")\n",
    "plt.ylabel(\"Temperature (C)\")\n",
    "\n",
    "plt.show()"
   ]
  },
  {
   "cell_type": "markdown",
   "metadata": {},
   "source": [
    "## Latitude vs. Humidity Plot"
   ]
  },
  {
   "cell_type": "code",
   "execution_count": 37,
   "metadata": {},
   "outputs": [
    {
     "data": {
      "image/png": "[encoded data removed]",
      "text/plain": [
       "<Figure size 432x288 with 1 Axes>"
      ]
     },
     "metadata": {
      "needs_background": "light"
     },
     "output_type": "display_data"
    }
   ],
   "source": [
    "lats_and_hum = df[[\"Lat\",\"Humidity\"]]\n",
    "lats_and_hum.plot(kind=\"scatter\",x=\"Lat\",y=\"Humidity\",grid=True)\n",
    "\n",
    "plt.title(\"City Latitude vs. Humidity 10/15/20\")\n",
    "plt.xlabel(\"Latitude\")\n",
    "plt.ylabel(\"Humidity (%)\")\n",
    "\n",
    "plt.show()"
   ]
  },
  {
   "cell_type": "markdown",
   "metadata": {},
   "source": [
    "## Latitude vs. Cloudiness Plot"
   ]
  },
  {
   "cell_type": "code",
   "execution_count": 38,
   "metadata": {},
   "outputs": [
    {
     "data": {
      "image/png": "[encoded data removed]",
      "text/plain": [
       "<Figure size 432x288 with 1 Axes>"
      ]
     },
     "metadata": {
      "needs_background": "light"
     },
     "output_type": "display_data"
    }
   ],
   "source": [
    "lats_and_clouds = df[[\"Lat\",\"Cloudiness\"]]\n",
    "lats_and_clouds.plot(kind=\"scatter\",x=\"Lat\",y=\"Cloudiness\",grid=True)\n",
    "\n",
    "plt.title(\"City Latitude vs. Cloudiness 10/15/20\")\n",
    "plt.xlabel(\"Latitude\")\n",
    "plt.ylabel(\"Cloudiness (%)\")\n",
    "\n",
    "plt.show()"
   ]
  },
  {
   "cell_type": "markdown",
   "metadata": {},
   "source": [
    "## Latitude vs. Wind Speed Plot"
   ]
  },
  {
   "cell_type": "code",
   "execution_count": 39,
   "metadata": {},
   "outputs": [
    {
     "data": {
      "image/png": "[encoded data removed]",
      "text/plain": [
       "<Figure size 432x288 with 1 Axes>"
      ]
     },
     "metadata": {
      "needs_background": "light"
     },
     "output_type": "display_data"
    }
   ],
   "source": [
    "lats_and_wind = df[[\"Lat\",\"Wind Speed\"]]\n",
    "lats_and_wind.plot(kind=\"scatter\",x=\"Lat\",y=\"Wind Speed\",grid=True)\n",
    "\n",
    "plt.title(\"City Latitude vs. Wind Speed 10/15/20\")\n",
    "plt.xlabel(\"Latitude\")\n",
    "plt.ylabel(\"Wind Speed (mph)\")\n",
    "\n",
    "plt.show()"
   ]
  },
  {
   "cell_type": "markdown",
   "metadata": {},
   "source": [
    "## Linear Regression"
   ]
  },
  {
   "cell_type": "code",
   "execution_count": 24,
   "metadata": {},
   "outputs": [],
   "source": []
  },
  {
   "cell_type": "markdown",
   "metadata": {},
   "source": [
    "####  Northern Hemisphere - Max Temp vs. Latitude Linear Regression"
   ]
  },
  {
   "cell_type": "code",
   "execution_count": 25,
   "metadata": {},
   "outputs": [
    {
     "name": "stdout",
     "output_type": "stream",
     "text": [
      "The r-value is: 0.46937863826630627\n"
     ]
    },
    {
     "data": {
      "image/png": "[encoded data removed]",
      "text/plain": [
       "<Figure size 432x288 with 1 Axes>"
      ]
     },
     "metadata": {
      "needs_background": "light"
     },
     "output_type": "display_data"
    }
   ],
   "source": []
  },
  {
   "cell_type": "markdown",
   "metadata": {},
   "source": [
    "####  Southern Hemisphere - Max Temp vs. Latitude Linear Regression"
   ]
  },
  {
   "cell_type": "code",
   "execution_count": 26,
   "metadata": {},
   "outputs": [
    {
     "name": "stdout",
     "output_type": "stream",
     "text": [
      "The r-value is: 0.6082708688906918\n"
     ]
    },
    {
     "data": {
      "image/png": "[encoded data removed]",
      "text/plain": [
       "<Figure size 432x288 with 1 Axes>"
      ]
     },
     "metadata": {
      "needs_background": "light"
     },
     "output_type": "display_data"
    }
   ],
   "source": []
  },
  {
   "cell_type": "markdown",
   "metadata": {},
   "source": [
    "####  Northern Hemisphere - Humidity (%) vs. Latitude Linear Regression"
   ]
  },
  {
   "cell_type": "code",
   "execution_count": 27,
   "metadata": {},
   "outputs": [
    {
     "name": "stdout",
     "output_type": "stream",
     "text": [
      "The r-value is: 0.000543987878808455\n"
     ]
    },
    {
     "data": {
      "image/png": "[encoded data removed]",
      "text/plain": [
       "<Figure size 432x288 with 1 Axes>"
      ]
     },
     "metadata": {
      "needs_background": "light"
     },
     "output_type": "display_data"
    }
   ],
   "source": []
  },
  {
   "cell_type": "markdown",
   "metadata": {},
   "source": [
    "####  Southern Hemisphere - Humidity (%) vs. Latitude Linear Regression"
   ]
  },
  {
   "cell_type": "code",
   "execution_count": 28,
   "metadata": {},
   "outputs": [
    {
     "name": "stdout",
     "output_type": "stream",
     "text": [
      "The r-value is: 0.014985174297345524\n"
     ]
    },
    {
     "data": {
      "image/png": "[encoded data removed]",
      "text/plain": [
       "<Figure size 432x288 with 1 Axes>"
      ]
     },
     "metadata": {
      "needs_background": "light"
     },
     "output_type": "display_data"
    }
   ],
   "source": []
  },
  {
   "cell_type": "markdown",
   "metadata": {},
   "source": [
    "####  Northern Hemisphere - Cloudiness (%) vs. Latitude Linear Regression"
   ]
  },
  {
   "cell_type": "code",
   "execution_count": 29,
   "metadata": {},
   "outputs": [
    {
     "name": "stdout",
     "output_type": "stream",
     "text": [
      "The r-value is: 0.0020898727664228514\n"
     ]
    },
    {
     "data": {
      "image/png": "[encoded data removed]",
      "text/plain": [
       "<Figure size 432x288 with 1 Axes>"
      ]
     },
     "metadata": {
      "needs_background": "light"
     },
     "output_type": "display_data"
    }
   ],
   "source": []
  },
  {
   "cell_type": "markdown",
   "metadata": {},
   "source": [
    "####  Southern Hemisphere - Cloudiness (%) vs. Latitude Linear Regression"
   ]
  },
  {
   "cell_type": "code",
   "execution_count": 30,
   "metadata": {},
   "outputs": [
    {
     "name": "stdout",
     "output_type": "stream",
     "text": [
      "The r-value is: 0.0035263772085582894\n"
     ]
    },
    {
     "data": {
      "image/png": "[encoded data removed]",
      "text/plain": [
       "<Figure size 432x288 with 1 Axes>"
      ]
     },
     "metadata": {
      "needs_background": "light"
     },
     "output_type": "display_data"
    }
   ],
   "source": []
  },
  {
   "cell_type": "markdown",
   "metadata": {},
   "source": [
    "####  Northern Hemisphere - Wind Speed (mph) vs. Latitude Linear Regression"
   ]
  },
  {
   "cell_type": "code",
   "execution_count": 31,
   "metadata": {},
   "outputs": [
    {
     "name": "stdout",
     "output_type": "stream",
     "text": [
      "The r-value is: 0.04019723576144484\n"
     ]
    },
    {
     "data": {
      "image/png": "[encoded data removed]",
      "text/plain": [
       "<Figure size 432x288 with 1 Axes>"
      ]
     },
     "metadata": {
      "needs_background": "light"
     },
     "output_type": "display_data"
    }
   ],
   "source": []
  },
  {
   "cell_type": "markdown",
   "metadata": {},
   "source": [
    "####  Southern Hemisphere - Wind Speed (mph) vs. Latitude Linear Regression"
   ]
  },
  {
   "cell_type": "code",
   "execution_count": 32,
   "metadata": {},
   "outputs": [
    {
     "name": "stdout",
     "output_type": "stream",
     "text": [
      "The r-value is: 0.017128274759839232\n"
     ]
    },
    {
     "data": {
      "image/png": "[encoded data removed]",
      "text/plain": [
       "<Figure size 432x288 with 1 Axes>"
      ]
     },
     "metadata": {
      "needs_background": "light"
     },
     "output_type": "display_data"
    }
   ],
   "source": []
  },
  {
   "cell_type": "code",
   "execution_count": null,
   "metadata": {},
   "outputs": [],
   "source": []
  }
 ],
 "metadata": {
  "anaconda-cloud": {},
  "kernel_info": {
   "name": "python3"
  },
  "kernelspec": {
   "display_name": "Python 3",
   "language": "python",
   "name": "python3"
  },
  "language_info": {
   "codemirror_mode": {
    "name": "ipython",
    "version": 3
   },
   "file_extension": ".py",
   "mimetype": "text/x-python",
   "name": "python",
   "nbconvert_exporter": "python",
   "pygments_lexer": "ipython3",
   "version": "3.6.10"
  },
  "latex_envs": {
   "LaTeX_envs_menu_present": true,
   "autoclose": false,
   "autocomplete": true,
   "bibliofile": "biblio.bib",
   "cite_by": "apalike",
   "current_citInitial": 1,
   "eqLabelWithNumbers": true,
   "eqNumInitial": 1,
   "hotkeys": {
    "equation": "Ctrl-E",
    "itemize": "Ctrl-I"
   },
   "labels_anchors": false,
   "latex_user_defs": false,
   "report_style_numbering": false,
   "user_envs_cfg": false
  },
  "nteract": {
   "version": "0.12.3"
  }
 },
 "nbformat": 4,
 "nbformat_minor": 2
}
